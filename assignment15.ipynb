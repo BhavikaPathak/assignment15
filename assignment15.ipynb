{
 "cells": [
  {
   "cell_type": "code",
   "execution_count": null,
   "id": "9d86f337-2f78-453b-bc0c-6fc8300cf692",
   "metadata": {},
   "outputs": [],
   "source": [
    "#                                         ANSWER 1 \n",
    "#API is the acronym for application programming interface — a software intermediary that allows two applications to talk to each other. APIs are an accessible way to extract and share data within and across organizations.\n",
    "#Popular API example is PayPal.PayPal is a fintech service that allows users to connect personal financial information to their PayPal account. This paves the way for easier, more secure money transfers."
   ]
  },
  {
   "cell_type": "code",
   "execution_count": null,
   "id": "73463f9b-3472-4aed-bc8a-8d880deaf5d1",
   "metadata": {},
   "outputs": [],
   "source": [
    "#                                         ANSWER 2\n",
    "#The main advantage of providing an API is that it allows your users to do more with your product or service (i.e. it increases the value of your product). This typically takes one of two forms -\n",
    "#an integration. An example of an integration is to push notifications from your product (such as CRM, Helpdesk) to a messaging tool such as Slack. In this way, if your customer uses Slack they can receive notifications without having to login directly to your system or check emails.\n",
    "#new functionality. In the early days of Twitter, some of the most popular Twitter clients were produced by third parties using the Twitter API. Twitter and its users benefited from the new functionality that was undertaken by other companies.\n",
    "#The disadvantages to providing an API are,\n",
    "#Cost. Providing an API is expensive in terms of development time, ongoing maintenance, providing API documentation on your website and providing support to users of your API.\n",
    "#Security exposure. Adding an API adds another attack surface to your website."
   ]
  },
  {
   "cell_type": "code",
   "execution_count": null,
   "id": "aa1d1438-b6dd-4912-b850-a5baeff71c58",
   "metadata": {},
   "outputs": [],
   "source": [
    "#                                            ANSWER 3\n",
    "#APIs are mechanisms that enable two software components to communicate with each other using a set of definitions and protocols. For example, the weather bureau’s software system contains daily weather data. The weather app on your phone “talks” to this system via APIs and shows you daily weather updates on your phone.\n",
    "#API stands for Application Programming Interface. In the context of APIs, the word Application refers to any software with a distinct function. Interface can be thought of as a contract of service between two applications. This contract defines how the two communicate with each other using requests and responses. Their API documentation contains information on how developers are to structure those requests and responses.\n",
    "#API architecture is usually explained in terms of client and server. The application sending the request is called the client, and the application sending the response is called the server.\n",
    "#A Web API or Web Service API is an application processing interface between a web server and web browser. All web services are APIs but not all APIs are web services. REST API is a special type of Web API that uses the standard architectural style "
   ]
  },
  {
   "cell_type": "code",
   "execution_count": null,
   "id": "c5675e34-3567-4406-b0a4-3a4e9e4a6d12",
   "metadata": {},
   "outputs": [],
   "source": [
    "#                                        ANSWER 4\n",
    "#REST:representational state transfer\n",
    "#REST is a set of architectural principles attuned to the needs of lightweight web services and mobile applications. Because it's a set of guidelines, it leaves the implementation of these recommendations to developers.\n",
    "#SOAP: simple object access protocol\n",
    "#SOAP is a standard protocol that was first designed so that applications built with different languages and on different platforms could communicate. Because it is a protocol, it imposes built-in rules that increase its complexity and overhead, which can lead to longer page load times. \n",
    "\n",
    "#s SOAP can only transfer messages as XML files, your SOAP API will be less performant, as XML is a verbose format compared to JSON. API calls made to your server will need more bandwidth and it will take more time to process the request and transfer the response back to the client."
   ]
  },
  {
   "cell_type": "code",
   "execution_count": null,
   "id": "07225f07-53f4-4d7e-bf4a-262ec84eb388",
   "metadata": {},
   "outputs": [],
   "source": [
    "#                                         ANSWER 5\n",
    "#Many legacy systems may still adhere to SOAP, while REST came later and is often viewed as a faster alternative in web-based scenarios. REST is a set of guidelines that offers flexible implementation, whereas SOAP is a protocol with specific requirements like XML messaging.REST APIs are lightweight, making them ideal for newer contexts like the Internet of Things (IoT), mobile application development, and serverless computing. SOAP web services offer built-in security and transaction compliance that align with many enterprise needs, but that also makes them heavier. Additionally, many public APIs, like the Google Maps API, follow the REST guidelines."
   ]
  },
  {
   "cell_type": "code",
   "execution_count": null,
   "id": "7e103aeb-af0b-4786-b7cd-40a4ea8f918e",
   "metadata": {},
   "outputs": [],
   "source": []
  }
 ],
 "metadata": {
  "kernelspec": {
   "display_name": "Python 3 (ipykernel)",
   "language": "python",
   "name": "python3"
  },
  "language_info": {
   "codemirror_mode": {
    "name": "ipython",
    "version": 3
   },
   "file_extension": ".py",
   "mimetype": "text/x-python",
   "name": "python",
   "nbconvert_exporter": "python",
   "pygments_lexer": "ipython3",
   "version": "3.10.8"
  }
 },
 "nbformat": 4,
 "nbformat_minor": 5
}
